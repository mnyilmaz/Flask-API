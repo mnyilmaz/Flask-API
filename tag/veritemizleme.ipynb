{
 "cells": [
  {
   "cell_type": "markdown",
   "metadata": {},
   "source": [
    "## Bu kodda temizleme yapılırken, değiştirilen dosya adlarına dikkat edilip öyle çalışılmalı !!!"
   ]
  },
  {
   "cell_type": "code",
   "execution_count": 1,
   "metadata": {
    "ExecuteTime": {
     "end_time": "2023-07-24T08:03:04.164309Z",
     "start_time": "2023-07-24T08:03:01.660580Z"
    }
   },
   "outputs": [
    {
     "ename": "FileNotFoundError",
     "evalue": "[Errno 2] No such file or directory: 'indexyeni.xlsx'",
     "output_type": "error",
     "traceback": [
      "\u001B[0;31m---------------------------------------------------------------------------\u001B[0m",
      "\u001B[0;31mFileNotFoundError\u001B[0m                         Traceback (most recent call last)",
      "Cell \u001B[0;32mIn[1], line 6\u001B[0m\n\u001B[1;32m      3\u001B[0m \u001B[38;5;28;01mimport\u001B[39;00m \u001B[38;5;21;01mpandas\u001B[39;00m \u001B[38;5;28;01mas\u001B[39;00m \u001B[38;5;21;01mpd\u001B[39;00m\n\u001B[1;32m      5\u001B[0m \u001B[38;5;66;03m# Excel dosyasını oku\u001B[39;00m\n\u001B[0;32m----> 6\u001B[0m df \u001B[38;5;241m=\u001B[39m \u001B[43mpd\u001B[49m\u001B[38;5;241;43m.\u001B[39;49m\u001B[43mread_excel\u001B[49m\u001B[43m(\u001B[49m\u001B[38;5;124;43m'\u001B[39;49m\u001B[38;5;124;43mindexyeni.xlsx\u001B[39;49m\u001B[38;5;124;43m'\u001B[39;49m\u001B[43m)\u001B[49m\n\u001B[1;32m      8\u001B[0m \u001B[38;5;66;03m# 'Title', 'Category', 'Date' sütunlarını yeni bir DataFrame'e kopyala\u001B[39;00m\n\u001B[1;32m      9\u001B[0m new_df \u001B[38;5;241m=\u001B[39m pd\u001B[38;5;241m.\u001B[39mDataFrame(df[[\u001B[38;5;124m'\u001B[39m\u001B[38;5;124mTitle\u001B[39m\u001B[38;5;124m'\u001B[39m, \u001B[38;5;124m'\u001B[39m\u001B[38;5;124mDescription\u001B[39m\u001B[38;5;124m'\u001B[39m, \u001B[38;5;124m'\u001B[39m\u001B[38;5;124mValues\u001B[39m\u001B[38;5;124m'\u001B[39m]])\n",
      "File \u001B[0;32m~/anaconda3/lib/python3.10/site-packages/pandas/util/_decorators.py:211\u001B[0m, in \u001B[0;36mdeprecate_kwarg.<locals>._deprecate_kwarg.<locals>.wrapper\u001B[0;34m(*args, **kwargs)\u001B[0m\n\u001B[1;32m    209\u001B[0m     \u001B[38;5;28;01melse\u001B[39;00m:\n\u001B[1;32m    210\u001B[0m         kwargs[new_arg_name] \u001B[38;5;241m=\u001B[39m new_arg_value\n\u001B[0;32m--> 211\u001B[0m \u001B[38;5;28;01mreturn\u001B[39;00m \u001B[43mfunc\u001B[49m\u001B[43m(\u001B[49m\u001B[38;5;241;43m*\u001B[39;49m\u001B[43margs\u001B[49m\u001B[43m,\u001B[49m\u001B[43m \u001B[49m\u001B[38;5;241;43m*\u001B[39;49m\u001B[38;5;241;43m*\u001B[39;49m\u001B[43mkwargs\u001B[49m\u001B[43m)\u001B[49m\n",
      "File \u001B[0;32m~/anaconda3/lib/python3.10/site-packages/pandas/util/_decorators.py:331\u001B[0m, in \u001B[0;36mdeprecate_nonkeyword_arguments.<locals>.decorate.<locals>.wrapper\u001B[0;34m(*args, **kwargs)\u001B[0m\n\u001B[1;32m    325\u001B[0m \u001B[38;5;28;01mif\u001B[39;00m \u001B[38;5;28mlen\u001B[39m(args) \u001B[38;5;241m>\u001B[39m num_allow_args:\n\u001B[1;32m    326\u001B[0m     warnings\u001B[38;5;241m.\u001B[39mwarn(\n\u001B[1;32m    327\u001B[0m         msg\u001B[38;5;241m.\u001B[39mformat(arguments\u001B[38;5;241m=\u001B[39m_format_argument_list(allow_args)),\n\u001B[1;32m    328\u001B[0m         \u001B[38;5;167;01mFutureWarning\u001B[39;00m,\n\u001B[1;32m    329\u001B[0m         stacklevel\u001B[38;5;241m=\u001B[39mfind_stack_level(),\n\u001B[1;32m    330\u001B[0m     )\n\u001B[0;32m--> 331\u001B[0m \u001B[38;5;28;01mreturn\u001B[39;00m \u001B[43mfunc\u001B[49m\u001B[43m(\u001B[49m\u001B[38;5;241;43m*\u001B[39;49m\u001B[43margs\u001B[49m\u001B[43m,\u001B[49m\u001B[43m \u001B[49m\u001B[38;5;241;43m*\u001B[39;49m\u001B[38;5;241;43m*\u001B[39;49m\u001B[43mkwargs\u001B[49m\u001B[43m)\u001B[49m\n",
      "File \u001B[0;32m~/anaconda3/lib/python3.10/site-packages/pandas/io/excel/_base.py:482\u001B[0m, in \u001B[0;36mread_excel\u001B[0;34m(io, sheet_name, header, names, index_col, usecols, squeeze, dtype, engine, converters, true_values, false_values, skiprows, nrows, na_values, keep_default_na, na_filter, verbose, parse_dates, date_parser, thousands, decimal, comment, skipfooter, convert_float, mangle_dupe_cols, storage_options)\u001B[0m\n\u001B[1;32m    480\u001B[0m \u001B[38;5;28;01mif\u001B[39;00m \u001B[38;5;129;01mnot\u001B[39;00m \u001B[38;5;28misinstance\u001B[39m(io, ExcelFile):\n\u001B[1;32m    481\u001B[0m     should_close \u001B[38;5;241m=\u001B[39m \u001B[38;5;28;01mTrue\u001B[39;00m\n\u001B[0;32m--> 482\u001B[0m     io \u001B[38;5;241m=\u001B[39m \u001B[43mExcelFile\u001B[49m\u001B[43m(\u001B[49m\u001B[43mio\u001B[49m\u001B[43m,\u001B[49m\u001B[43m \u001B[49m\u001B[43mstorage_options\u001B[49m\u001B[38;5;241;43m=\u001B[39;49m\u001B[43mstorage_options\u001B[49m\u001B[43m,\u001B[49m\u001B[43m \u001B[49m\u001B[43mengine\u001B[49m\u001B[38;5;241;43m=\u001B[39;49m\u001B[43mengine\u001B[49m\u001B[43m)\u001B[49m\n\u001B[1;32m    483\u001B[0m \u001B[38;5;28;01melif\u001B[39;00m engine \u001B[38;5;129;01mand\u001B[39;00m engine \u001B[38;5;241m!=\u001B[39m io\u001B[38;5;241m.\u001B[39mengine:\n\u001B[1;32m    484\u001B[0m     \u001B[38;5;28;01mraise\u001B[39;00m \u001B[38;5;167;01mValueError\u001B[39;00m(\n\u001B[1;32m    485\u001B[0m         \u001B[38;5;124m\"\u001B[39m\u001B[38;5;124mEngine should not be specified when passing \u001B[39m\u001B[38;5;124m\"\u001B[39m\n\u001B[1;32m    486\u001B[0m         \u001B[38;5;124m\"\u001B[39m\u001B[38;5;124man ExcelFile - ExcelFile already has the engine set\u001B[39m\u001B[38;5;124m\"\u001B[39m\n\u001B[1;32m    487\u001B[0m     )\n",
      "File \u001B[0;32m~/anaconda3/lib/python3.10/site-packages/pandas/io/excel/_base.py:1652\u001B[0m, in \u001B[0;36mExcelFile.__init__\u001B[0;34m(self, path_or_buffer, engine, storage_options)\u001B[0m\n\u001B[1;32m   1650\u001B[0m     ext \u001B[38;5;241m=\u001B[39m \u001B[38;5;124m\"\u001B[39m\u001B[38;5;124mxls\u001B[39m\u001B[38;5;124m\"\u001B[39m\n\u001B[1;32m   1651\u001B[0m \u001B[38;5;28;01melse\u001B[39;00m:\n\u001B[0;32m-> 1652\u001B[0m     ext \u001B[38;5;241m=\u001B[39m \u001B[43minspect_excel_format\u001B[49m\u001B[43m(\u001B[49m\n\u001B[1;32m   1653\u001B[0m \u001B[43m        \u001B[49m\u001B[43mcontent_or_path\u001B[49m\u001B[38;5;241;43m=\u001B[39;49m\u001B[43mpath_or_buffer\u001B[49m\u001B[43m,\u001B[49m\u001B[43m \u001B[49m\u001B[43mstorage_options\u001B[49m\u001B[38;5;241;43m=\u001B[39;49m\u001B[43mstorage_options\u001B[49m\n\u001B[1;32m   1654\u001B[0m \u001B[43m    \u001B[49m\u001B[43m)\u001B[49m\n\u001B[1;32m   1655\u001B[0m     \u001B[38;5;28;01mif\u001B[39;00m ext \u001B[38;5;129;01mis\u001B[39;00m \u001B[38;5;28;01mNone\u001B[39;00m:\n\u001B[1;32m   1656\u001B[0m         \u001B[38;5;28;01mraise\u001B[39;00m \u001B[38;5;167;01mValueError\u001B[39;00m(\n\u001B[1;32m   1657\u001B[0m             \u001B[38;5;124m\"\u001B[39m\u001B[38;5;124mExcel file format cannot be determined, you must specify \u001B[39m\u001B[38;5;124m\"\u001B[39m\n\u001B[1;32m   1658\u001B[0m             \u001B[38;5;124m\"\u001B[39m\u001B[38;5;124man engine manually.\u001B[39m\u001B[38;5;124m\"\u001B[39m\n\u001B[1;32m   1659\u001B[0m         )\n",
      "File \u001B[0;32m~/anaconda3/lib/python3.10/site-packages/pandas/io/excel/_base.py:1525\u001B[0m, in \u001B[0;36minspect_excel_format\u001B[0;34m(content_or_path, storage_options)\u001B[0m\n\u001B[1;32m   1522\u001B[0m \u001B[38;5;28;01mif\u001B[39;00m \u001B[38;5;28misinstance\u001B[39m(content_or_path, \u001B[38;5;28mbytes\u001B[39m):\n\u001B[1;32m   1523\u001B[0m     content_or_path \u001B[38;5;241m=\u001B[39m BytesIO(content_or_path)\n\u001B[0;32m-> 1525\u001B[0m \u001B[38;5;28;01mwith\u001B[39;00m \u001B[43mget_handle\u001B[49m\u001B[43m(\u001B[49m\n\u001B[1;32m   1526\u001B[0m \u001B[43m    \u001B[49m\u001B[43mcontent_or_path\u001B[49m\u001B[43m,\u001B[49m\u001B[43m \u001B[49m\u001B[38;5;124;43m\"\u001B[39;49m\u001B[38;5;124;43mrb\u001B[39;49m\u001B[38;5;124;43m\"\u001B[39;49m\u001B[43m,\u001B[49m\u001B[43m \u001B[49m\u001B[43mstorage_options\u001B[49m\u001B[38;5;241;43m=\u001B[39;49m\u001B[43mstorage_options\u001B[49m\u001B[43m,\u001B[49m\u001B[43m \u001B[49m\u001B[43mis_text\u001B[49m\u001B[38;5;241;43m=\u001B[39;49m\u001B[38;5;28;43;01mFalse\u001B[39;49;00m\n\u001B[1;32m   1527\u001B[0m \u001B[43m\u001B[49m\u001B[43m)\u001B[49m \u001B[38;5;28;01mas\u001B[39;00m handle:\n\u001B[1;32m   1528\u001B[0m     stream \u001B[38;5;241m=\u001B[39m handle\u001B[38;5;241m.\u001B[39mhandle\n\u001B[1;32m   1529\u001B[0m     stream\u001B[38;5;241m.\u001B[39mseek(\u001B[38;5;241m0\u001B[39m)\n",
      "File \u001B[0;32m~/anaconda3/lib/python3.10/site-packages/pandas/io/common.py:865\u001B[0m, in \u001B[0;36mget_handle\u001B[0;34m(path_or_buf, mode, encoding, compression, memory_map, is_text, errors, storage_options)\u001B[0m\n\u001B[1;32m    856\u001B[0m         handle \u001B[38;5;241m=\u001B[39m \u001B[38;5;28mopen\u001B[39m(\n\u001B[1;32m    857\u001B[0m             handle,\n\u001B[1;32m    858\u001B[0m             ioargs\u001B[38;5;241m.\u001B[39mmode,\n\u001B[0;32m   (...)\u001B[0m\n\u001B[1;32m    861\u001B[0m             newline\u001B[38;5;241m=\u001B[39m\u001B[38;5;124m\"\u001B[39m\u001B[38;5;124m\"\u001B[39m,\n\u001B[1;32m    862\u001B[0m         )\n\u001B[1;32m    863\u001B[0m     \u001B[38;5;28;01melse\u001B[39;00m:\n\u001B[1;32m    864\u001B[0m         \u001B[38;5;66;03m# Binary mode\u001B[39;00m\n\u001B[0;32m--> 865\u001B[0m         handle \u001B[38;5;241m=\u001B[39m \u001B[38;5;28;43mopen\u001B[39;49m\u001B[43m(\u001B[49m\u001B[43mhandle\u001B[49m\u001B[43m,\u001B[49m\u001B[43m \u001B[49m\u001B[43mioargs\u001B[49m\u001B[38;5;241;43m.\u001B[39;49m\u001B[43mmode\u001B[49m\u001B[43m)\u001B[49m\n\u001B[1;32m    866\u001B[0m     handles\u001B[38;5;241m.\u001B[39mappend(handle)\n\u001B[1;32m    868\u001B[0m \u001B[38;5;66;03m# Convert BytesIO or file objects passed with an encoding\u001B[39;00m\n",
      "\u001B[0;31mFileNotFoundError\u001B[0m: [Errno 2] No such file or directory: 'indexyeni.xlsx'"
     ]
    }
   ],
   "source": [
    "# excellde çoklu sütunları çekme\n",
    "\n",
    "import pandas as pd\n",
    "\n",
    "# Excel dosyasını oku\n",
    "df = pd.read_excel('indexyeni.xlsx')\n",
    "\n",
    "# 'Title', 'Category', 'Date' sütunlarını yeni bir DataFrame'e kopyala\n",
    "new_df = pd.DataFrame(df[['Title', 'Description', 'Values']])\n",
    "\n",
    "# Excel dosyasına kaydet\n",
    "new_df.to_excel('indexyeni2.xlsx', index=False)"
   ]
  },
  {
   "cell_type": "code",
   "execution_count": null,
   "metadata": {},
   "outputs": [],
   "source": [
    "#Excel deki sütunların altındaki yazılar küçük harflere dönüştürüldü.\n",
    "import pandas as pd\n",
    "\n",
    "# Excel dosyasını yükleme\n",
    "df = pd.read_excel(\"indexyeni.xlsx\")\n",
    "\n",
    "# \"Title\", \"Description\" ve \"Values\" sütunlarının isimleri\n",
    "columns = [\"Title\", \"Description\", \"Values\"]\n",
    "\n",
    "# Sütunlardaki tüm metinleri küçük harflere dönüştürme\n",
    "for column in columns:\n",
    "    df[column] = df[column].str.lower()\n",
    "\n",
    "# Değiştirilmiş verileri Excel dosyasına kaydetme\n",
    "df.to_excel(\"indexyeni.xlsx\", index=False)\n"
   ]
  },
  {
   "cell_type": "code",
   "execution_count": null,
   "metadata": {},
   "outputs": [],
   "source": [
    "#Excellde ki Values sütunundaki yazıları rakama çeviriyor.\n",
    "import pandas as pd\n",
    "\n",
    "# Excel dosyasını oku\n",
    "df = pd.read_excel('indexyeni.xlsx')\n",
    "\n",
    "# \"Values\" sütununda bulunan metinleri arayarak sayılara dönüştür\n",
    "df['Values'] = df['Values'].apply(lambda x: 0 if 'report a bug' in x else (1 if 'suggest a new future' in x else (2 if 'suggest improvement' in x else (3 if 'technical support' in x else x))))\n",
    "\n",
    "# Excel dosyasına kaydet\n",
    "df.to_excel('indexyeni.xlsx', index=False)"
   ]
  },
  {
   "cell_type": "code",
   "execution_count": 15,
   "metadata": {},
   "outputs": [
    {
     "name": "stdout",
     "output_type": "stream",
     "text": [
      "2    353\n",
      "0    330\n",
      "1     54\n",
      "3     33\n",
      "Name: Values, dtype: int64\n"
     ]
    }
   ],
   "source": [
    "#Values sütunundaki kategorilerin (0-1-2-3) değerlerinin kaç adet barındırdığı gösterildi.\n",
    "import pandas as pd\n",
    "\n",
    "# Excel dosyasını yükleme\n",
    "df = pd.read_excel(\"indexyeni.xlsx\")\n",
    "\n",
    "# \"Values\" sütunundaki her bir eşsiz değerin kaç adet tekrar ettiğini hesaplama\n",
    "value_counts = df['Values'].value_counts()\n",
    "\n",
    "# Sonucu ekrana yazdırma\n",
    "print(value_counts)\n"
   ]
  },
  {
   "cell_type": "code",
   "execution_count": 24,
   "metadata": {},
   "outputs": [
    {
     "name": "stdout",
     "output_type": "stream",
     "text": [
      "Tekrar eden satır sayısı: 19\n"
     ]
    }
   ],
   "source": [
    "#Exceldeki tekrar eden satırlar silindi.\n",
    "import pandas as pd\n",
    "\n",
    "# Excel dosyasını yükleme\n",
    "df = pd.read_excel(\"indexyeni.xlsx\")\n",
    "\n",
    "# Tekrar eden satır sayısını bulma\n",
    "duplicated_rows = df[df.duplicated()]\n",
    "\n",
    "# Tekrar eden satır sayısını ekrana yazdırma\n",
    "print(\"Tekrar eden satır sayısı:\", len(duplicated_rows))\n",
    "\n",
    "# Tekrar eden satırları silme\n",
    "df.drop_duplicates(inplace=True)\n",
    "\n",
    "\n",
    "# Dosyayı kaydetme\n",
    "df.to_excel(\"indexyeni2.xlsx\", index=False)\n"
   ]
  },
  {
   "cell_type": "code",
   "execution_count": 33,
   "metadata": {},
   "outputs": [
    {
     "name": "stdout",
     "output_type": "stream",
     "text": [
      "Toplam boş satır sayısı: 0\n"
     ]
    }
   ],
   "source": [
    "#Exceldeki sütunlarda boş satır kontrolü yapıldı.\n",
    "import pandas as pd\n",
    "\n",
    "# Excel dosyasını oku\n",
    "df = pd.read_excel('indexyeni.xlsx')\n",
    "\n",
    "# Boş satırların sayısını bul\n",
    "empty_rows = df.isnull().all(axis=1).sum()\n",
    "\n",
    "# Ekrana yazdır\n",
    "print(\"Toplam boş satır sayısı:\", empty_rows)\n"
   ]
  },
  {
   "cell_type": "code",
   "execution_count": null,
   "metadata": {},
   "outputs": [],
   "source": [
    "#Excellde Sütunlardaki rakam ve karakterlerin yeri boşlukla değiştirildi.\n",
    "import pandas as pd\n",
    "import re\n",
    "\n",
    "# Excel dosyasını yükleme\n",
    "df = pd.read_excel(\"index.xlsx\")\n",
    "\n",
    "# \"Title\", \"Description\" ve \"Values\" sütunlarının isimleri\n",
    "columns = [\"Title\", \"Description\", \"Values\"]\n",
    "\n",
    "# Sütunlardaki rakam ve karakterleri boşlukla değiştirme\n",
    "for column in columns:\n",
    "    df[column] = df[column].apply(lambda x: re.sub(r'[^\\w\\s]', ' ', str(x))) # noktalama işaretleri\n",
    "    df[column] = df[column].apply(lambda x: re.sub(r'\\d+', ' ', x)) # rakamlar\n",
    "\n",
    "# Değiştirilmiş verileri Excel dosyasına kaydetme\n",
    "df.to_excel(\"indexyeni.xlsx\", index=False)\n"
   ]
  },
  {
   "cell_type": "markdown",
   "metadata": {},
   "source": [
    "## Adım 8 TÜRKÇE STOPWORDSLERİ KALDIRMA"
   ]
  },
  {
   "cell_type": "code",
   "execution_count": 14,
   "metadata": {},
   "outputs": [
    {
     "name": "stdout",
     "output_type": "stream",
     "text": [
      "['acaba', 'ama', 'aslında', 'az', 'bazı', 'belki', 'biri', 'birkaç', 'birşey', 'biz', 'bu', 'çok', 'çünkü', 'da', 'daha', 'de', 'defa', 'diye', 'eğer', 'en', 'gibi', 'hem', 'hep', 'hepsi', 'her', 'hiç', 'için', 'ile', 'ise', 'kez', 'ki', 'kim', 'mı', 'mu', 'mü', 'nasıl', 'ne', 'neden', 'nerde', 'nerede', 'nereye', 'niçin', 'niye', 'o', 'sanki', 'şey', 'siz', 'şu', 'tüm', 've', 'veya', 'ya', 'yani']\n"
     ]
    },
    {
     "name": "stderr",
     "output_type": "stream",
     "text": [
      "[nltk_data] Downloading package stopwords to\n",
      "[nltk_data]     C:\\Users\\Burak\\AppData\\Roaming\\nltk_data...\n",
      "[nltk_data]   Package stopwords is already up-to-date!\n"
     ]
    }
   ],
   "source": [
    "#Türkçe STOPWORDSLERİ yazdırır.\n",
    "import nltk\n",
    "nltk.download('stopwords')\n",
    "\n",
    "stopwords_tr = nltk.corpus.stopwords.words('turkish')\n",
    "print(stopwords_tr)"
   ]
  },
  {
   "cell_type": "code",
   "execution_count": 13,
   "metadata": {},
   "outputs": [
    {
     "name": "stderr",
     "output_type": "stream",
     "text": [
      "[nltk_data] Downloading package stopwords to\n",
      "[nltk_data]     C:\\Users\\Burak\\AppData\\Roaming\\nltk_data...\n",
      "[nltk_data]   Package stopwords is already up-to-date!\n"
     ]
    }
   ],
   "source": [
    "#Title ve Descriptiondaki kelimeleri küçüğe çevirir ve stopwordsleri kaldırır.\n",
    "import pandas as pd\n",
    "import nltk\n",
    "from nltk.corpus import stopwords\n",
    "nltk.download('stopwords')\n",
    "\n",
    "# Excel dosyasını oku\n",
    "df = pd.read_excel('adim7.xlsx')\n",
    "\n",
    "# Türkçe stopword'leri yükle\n",
    "stopwords_tr = set(stopwords.words('turkish'))\n",
    "\n",
    "# Title ve Description sütunlarını küçük harflere çevir ve stopword'leri kaldır\n",
    "df['Title'] = df['Title'].str.lower().apply(lambda x: ' '.join([word for word in x.split() if word not in stopwords_tr]))\n",
    "df['Description'] = df['Description'].str.lower().apply(lambda x: ' '.join([word for word in x.split() if word not in stopwords_tr]))\n",
    "\n",
    "# Sonucu yeni bir Excel dosyasına yaz\n",
    "writer = pd.ExcelWriter('adim8.xlsx', engine='xlsxwriter')\n",
    "df.to_excel(writer, index=False)\n",
    "writer.save()\n"
   ]
  },
  {
   "cell_type": "code",
   "execution_count": 2,
   "metadata": {},
   "outputs": [
    {
     "name": "stdout",
     "output_type": "stream",
     "text": [
      "[('hk', 510), ('yetki', 53), ('hatası', 52), ('ve', 52), ('kullanıcı', 51), ('giderleri', 51), ('eklenmesi', 50), ('bütçe', 48), ('hak', 47), ('yeni', 46), ('cognos', 45), ('mizan', 39), ('devri', 31), ('mali', 28), ('veri', 25), ('tablo', 25), ('denetim', 23), ('bütçesi', 22), ('gider', 21), ('bağımsız', 21), ('yatırım', 19), ('giriş', 18), ('güncellemeleri', 17), ('ik', 17), ('güncelleme', 16), ('personel', 16), ('kalem', 16), ('satış', 16), ('ekranı', 15), ('mağaza', 15)]\n"
     ]
    }
   ],
   "source": [
    "#Title da en çok geçen kelimeler\n",
    "import pandas as pd\n",
    "\n",
    "df = pd.read_excel(\"indexyeni.xlsx\")\n",
    "text = ' '.join(df['Title'])\n",
    "from collections import Counter\n",
    "\n",
    "kelimeler = text.split()\n",
    "kelime_sayilari = Counter(kelimeler)\n",
    "\n",
    "en_cok_gecen_kelimeler = kelime_sayilari.most_common(30)\n",
    "print(en_cok_gecen_kelimeler)\n",
    "\n"
   ]
  },
  {
   "cell_type": "code",
   "execution_count": 3,
   "metadata": {},
   "outputs": [
    {
     "name": "stdout",
     "output_type": "stream",
     "text": [
      "[('ve', 400), ('merhaba', 328), ('talep', 227), ('rica', 226), ('için', 220), ('bütçe', 203), ('ederiz', 200), ('cognos', 179), ('çalışmalar', 170), ('olarak', 166), ('ile', 152), ('giderleri', 152), ('yardımlarınızı', 129), ('bu', 124), ('teşekkürler', 124), ('i̇yi', 112), ('budget', 102), ('gerekmektedir', 98), ('bir', 97), ('tm', 97), ('alan', 94), ('mizan', 90), ('içerisinde', 90), ('yer', 88), ('yeni', 87), ('dilerim', 82), ('gider', 79), ('da', 79), ('ilgili', 76), ('merhabalar', 75)]\n"
     ]
    }
   ],
   "source": [
    "#Description da en çok geçen kelimeler\n",
    "import pandas as pd\n",
    "\n",
    "df = pd.read_excel(\"indexyeni.xlsx\")\n",
    "text = ' '.join(df['Description'])\n",
    "from collections import Counter\n",
    "\n",
    "kelimeler = text.split()\n",
    "kelime_sayilari = Counter(kelimeler)\n",
    "\n",
    "en_cok_gecen_kelimeler = kelime_sayilari.most_common(30)\n",
    "print(en_cok_gecen_kelimeler)\n",
    "\n"
   ]
  },
  {
   "cell_type": "code",
   "execution_count": 47,
   "metadata": {},
   "outputs": [],
   "source": [
    "#Description Gereksiz kelimeleri kaldırma\n",
    "import pandas as pd\n",
    "\n",
    "def remove_unnecessary_words(text):\n",
    "    unnecessary_words = [\n",
    "        'merhabalar',\n",
    "        'merhaba',\n",
    "        'selam',\n",
    "        'selamlar',\n",
    "        'esra hanım',\n",
    "        'hk',\n",
    "        'iyi çalışmalar dilerim',\n",
    "        'iyi çalışmalar dileriz',\n",
    "        'i̇yi çalışmalar',\n",
    "        'teşekkürler',\n",
    "        'teşekkür ederiz',\n",
    "        ''\n",
    "    ]\n",
    "    for word in unnecessary_words:\n",
    "        text = text.str.replace(f'^{word}\\s+|\\s+{word}\\s+|\\s+{word}$', ' ', regex=True)\n",
    "    return text\n",
    "\n",
    "# Excel dosyasını oku\n",
    "df = pd.read_excel('adim8.xlsx')\n",
    "\n",
    "# Sütundaki metinleri düzenle\n",
    "df['Description'] = remove_unnecessary_words(df['Description'])\n",
    "\n",
    "# Düzenlenmiş verileri yeni bir Excel dosyasına yaz\n",
    "df.to_excel('adim9.xlsx', index=False)\n"
   ]
  },
  {
   "cell_type": "code",
   "execution_count": 48,
   "metadata": {},
   "outputs": [],
   "source": [
    "#Title Gereksiz kelimeleri kaldırma\n",
    "import pandas as pd\n",
    "\n",
    "def remove_unnecessary_words(text):\n",
    "    unnecessary_words = [\n",
    "        'hk',\n",
    "        'hak',\n",
    "        \n",
    "    ]\n",
    "    for word in unnecessary_words:\n",
    "        text = text.str.replace(f'^{word}\\s+|\\s+{word}\\s+|\\s+{word}$', ' ', regex=True)\n",
    "    return text\n",
    "\n",
    "# Excel dosyasını oku\n",
    "df = pd.read_excel('adim9.xlsx')\n",
    "\n",
    "# Sütundaki metinleri düzenle\n",
    "df['Title'] = remove_unnecessary_words(df['Title'])\n",
    "\n",
    "# Düzenlenmiş verileri yeni bir Excel dosyasına yaz\n",
    "df.to_excel('adim10.xlsx', index=False)\n"
   ]
  },
  {
   "cell_type": "markdown",
   "metadata": {},
   "source": [
    "#CSV ÇEVİRME"
   ]
  },
  {
   "cell_type": "code",
   "execution_count": 49,
   "metadata": {},
   "outputs": [],
   "source": [
    "#Excell dosyasını csv dosyasına çevirme\n",
    "import pandas as pd\n",
    "\n",
    "# Excel dosyasını oku\n",
    "df = pd.read_excel(\"adim10.xlsx\")\n",
    "\n",
    "# CSV dosyasına dönüştür\n",
    "df.to_csv(\"adim10.csv\", index=False)\n"
   ]
  },
  {
   "cell_type": "code",
   "execution_count": 50,
   "metadata": {},
   "outputs": [],
   "source": [
    "#csv dosyasında gereksiz boşlukları silme.\n",
    "import pandas as pd\n",
    "\n",
    "# CSV dosyasını oku\n",
    "df = pd.read_csv(\"adim10.csv\")\n",
    "\n",
    "# Boşlukları kaldır\n",
    "df = df.applymap(lambda x: x.strip() if isinstance(x, str) else x)\n",
    "\n",
    "# CSV dosyasına kaydet\n",
    "df.to_csv(\"adim10.csv\", index=False)\n"
   ]
  }
 ],
 "metadata": {
  "kernelspec": {
   "display_name": "Python 3.10.5 64-bit",
   "language": "python",
   "name": "python3"
  },
  "language_info": {
   "codemirror_mode": {
    "name": "ipython",
    "version": 3
   },
   "file_extension": ".py",
   "mimetype": "text/x-python",
   "name": "python",
   "nbconvert_exporter": "python",
   "pygments_lexer": "ipython3",
   "version": "3.11.3"
  },
  "orig_nbformat": 4,
  "vscode": {
   "interpreter": {
    "hash": "77166de1c351ea371dae0ccf672aa0a3558769c714b5389e36a0c264c40ed330"
   }
  }
 },
 "nbformat": 4,
 "nbformat_minor": 2
}
